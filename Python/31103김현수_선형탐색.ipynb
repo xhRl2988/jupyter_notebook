{
 "cells": [
  {
   "cell_type": "code",
   "execution_count": 6,
   "id": "1873abc4-5f07-4d6b-802d-75d7722494a8",
   "metadata": {},
   "outputs": [
    {
     "name": "stdin",
     "output_type": "stream",
     "text": [
      "찾을려는 수 입력:  71\n"
     ]
    },
    {
     "name": "stdout",
     "output_type": "stream",
     "text": [
      "<<1번째 검색 값: 19\n",
      "계속 검색\n",
      "<<2번째 검색 값: 26\n",
      "계속 검색\n",
      "<<3번째 검색 값: 38\n",
      "계속 검색\n",
      "<<4번째 검색 값: 43\n",
      "계속 검색\n",
      "<<5번째 검색 값: 57\n",
      "계속 검색\n",
      "<<6번째 검색 값: 64\n",
      "계속 검색\n",
      "<<7번째 검색 값: 71\n",
      "검색 횟수: 7\n"
     ]
    }
   ],
   "source": [
    "def linearSearch(a,v):\n",
    "    n=len(a)\n",
    "    cnt=0\n",
    "    for i in range(n):\n",
    "        print(f'<<{i+1}번째 검색 값: {a[i]}')\n",
    "        cnt=cnt+1\n",
    "        if v == a[i]:\n",
    "            print(f'검색 횟수: {cnt}')\n",
    "            return 0\n",
    "        else:\n",
    "            print('계속 검색')\n",
    "    print('값이 존재하지 않음')\n",
    "    return 0\n",
    "def Main():\n",
    "    data=[19,26,38,43,57,64,71,82]\n",
    "    val=int(input('찾을려는 수 입력: '))\n",
    "    linearSearch(data,val)\n",
    "Main()"
   ]
  },
  {
   "cell_type": "code",
   "execution_count": 4,
   "id": "00b6a8ca-9c51-415e-8d74-008d1afa7b5b",
   "metadata": {},
   "outputs": [
    {
     "name": "stdin",
     "output_type": "stream",
     "text": [
      "데이터를 입력하세요:  10 20 30 40 50 60 70 80\n",
      "찾을려는 수 입력 50\n"
     ]
    },
    {
     "name": "stdout",
     "output_type": "stream",
     "text": [
      "1번째 검색 값: 10\n",
      "계속 검색\n",
      "2번째 검색 값: 20\n",
      "계속 검색\n",
      "3번째 검색 값: 30\n",
      "계속 검색\n",
      "4번째 검색 값: 40\n",
      "계속 검색\n",
      "5번째 검색 값: 50\n",
      "검색 횟수: 5\n"
     ]
    }
   ],
   "source": [
    "def linear(a,v):\n",
    "    n=len(a)\n",
    "    cnt=0\n",
    "    for i in range(n):\n",
    "        print(f'{i+1}번째 검색 값: {a[i]}')\n",
    "        cnt=cnt+1\n",
    "        if v == a[i]:\n",
    "            print(f'검색 횟수: {cnt}')\n",
    "            return 0\n",
    "        else:\n",
    "            print('계속 검색')\n",
    "    print('값이 존재하지 않음')\n",
    "    return 0\n",
    "def Main():\n",
    "    data = list(map(int, input('데이터를 입력하세요: ').split())) \n",
    "    val=int(input('찾을려는 수 입력'))\n",
    "    linear(data,val)\n",
    "Main()"
   ]
  },
  {
   "cell_type": "code",
   "execution_count": 5,
   "id": "33fb64ff-9a7d-41e4-8ec7-a940d57b2a35",
   "metadata": {},
   "outputs": [
    {
     "name": "stdin",
     "output_type": "stream",
     "text": [
      "데이터를 입력하세요:  10 20 30 40 50 60 70 80\n",
      "찾을려는 수 입력:  50\n"
     ]
    },
    {
     "name": "stdout",
     "output_type": "stream",
     "text": [
      "1번째 검색 값: 10\n",
      "계속 검색\n",
      "2번째 검색 값: 20\n",
      "계속 검색\n",
      "3번째 검색 값: 30\n",
      "계속 검색\n",
      "4번째 검색 값: 40\n",
      "계속 검색\n",
      "5번째 검색 값: 50\n",
      "검색 횟수: 5\n"
     ]
    }
   ],
   "source": [
    "def linear(a,v):\n",
    "    cnt=0\n",
    "    n=len(a)\n",
    "    for i in range(n):\n",
    "        print(f'{i+1}번째 검색 값: {a[i]}')\n",
    "        cnt= cnt+1\n",
    "        if v==a[i]:\n",
    "            print(f'검색 횟수: {cnt}')\n",
    "            return 0\n",
    "        else:\n",
    "            print('계속 검색')\n",
    "    print('값이 존재 하지 않음')\n",
    "    return 0\n",
    "def Main():\n",
    "    data=list(map(int,input('데이터를 입력하세요: ').split()))\n",
    "    val=int(input('찾을려는 수 입력: '))\n",
    "    linear(data,val)\n",
    "Main()"
   ]
  },
  {
   "cell_type": "code",
   "execution_count": null,
   "id": "f6e951a0-27e7-4627-ac7c-2fdc1383a335",
   "metadata": {},
   "outputs": [],
   "source": []
  }
 ],
 "metadata": {
  "kernelspec": {
   "display_name": "Python 3 (ipykernel)",
   "language": "python",
   "name": "python3"
  },
  "language_info": {
   "codemirror_mode": {
    "name": "ipython",
    "version": 3
   },
   "file_extension": ".py",
   "mimetype": "text/x-python",
   "name": "python",
   "nbconvert_exporter": "python",
   "pygments_lexer": "ipython3",
   "version": "3.12.5"
  }
 },
 "nbformat": 4,
 "nbformat_minor": 5
}
