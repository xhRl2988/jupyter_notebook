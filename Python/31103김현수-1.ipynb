{
 "cells": [
  {
   "cell_type": "code",
   "execution_count": 1,
   "id": "6d1060b7-a761-497e-b358-e35ab227476b",
   "metadata": {},
   "outputs": [
    {
     "name": "stdout",
     "output_type": "stream",
     "text": [
      "정렬 전 자료\n",
      "[9, 7, 5, 6, 1]\n",
      "0번째 정렬 자료\n",
      "[1, 7, 5, 6, 9]\n",
      "1번째 정렬 자료\n",
      "[1, 5, 7, 6, 9]\n",
      "2번째 정렬 자료\n",
      "[1, 5, 6, 7, 9]\n",
      "3번째 정렬 자료\n",
      "[1, 5, 6, 7, 9]\n",
      "정렬 후 자료\n",
      "[1, 5, 6, 7, 9]\n"
     ]
    }
   ],
   "source": [
    "def select(a):\n",
    "    n=len(a)\n",
    "    for i in range(n-1):\n",
    "        min=a[i]\n",
    "        index=i\n",
    "        for j in range(i+1,n):\n",
    "            if(min>a[j]):\n",
    "                min=a[j]\n",
    "                index=j\n",
    "        a[index]=a[i]\n",
    "        a[i]=min\n",
    "        print(f'{i}번째 정렬 자료')\n",
    "        print(a)\n",
    "    return a\n",
    "def Main():\n",
    "    data=[9,7,5,6,1]\n",
    "    print('정렬 전 자료')\n",
    "    print(data)\n",
    "    select(data)\n",
    "    print('정렬 후 자료')\n",
    "    print(data)\n",
    "Main()"
   ]
  },
  {
   "cell_type": "code",
   "execution_count": 12,
   "id": "47ad045d-5fbc-422c-a428-2de6d486f73d",
   "metadata": {},
   "outputs": [
    {
     "name": "stdout",
     "output_type": "stream",
     "text": [
      "정렬 전 자료\n",
      "[5, 7, 4, 9, 1]\n",
      "0번째 정렬 자료\n",
      "[5, 4, 7, 1, 9]\n",
      "1번째 정렬 자료\n",
      "[4, 5, 1, 7, 9]\n",
      "2번째 정렬 자료\n",
      "[4, 1, 5, 7, 9]\n",
      "3번째 정렬 자료\n",
      "[1, 4, 5, 7, 9]\n",
      "정렬 후 자료\n",
      "[1, 4, 5, 7, 9]\n"
     ]
    }
   ],
   "source": [
    "def bubble(a):\n",
    "    n=len(a)\n",
    "    for i in range(n-1):\n",
    "        for j in range(1,n-i):\n",
    "            if(a[j-1]>a[j]):\n",
    "                temp=a[j-1]\n",
    "                a[j-1]=a[j]\n",
    "                a[j]=temp\n",
    "        print(f'{i}번째 정렬 자료')\n",
    "        print(a)\n",
    "    return a\n",
    "def Main():\n",
    "    data=[5,7,4,9,1]\n",
    "    print('정렬 전 자료')\n",
    "    print(data)\n",
    "    bubble(data)\n",
    "    print('정렬 후 자료')\n",
    "    print(data)\n",
    "Main()"
   ]
  },
  {
   "cell_type": "code",
   "execution_count": null,
   "id": "051ceda1-6a09-4f8e-bc7b-e577879759a2",
   "metadata": {},
   "outputs": [],
   "source": []
  }
 ],
 "metadata": {
  "kernelspec": {
   "display_name": "Python 3 (ipykernel)",
   "language": "python",
   "name": "python3"
  },
  "language_info": {
   "codemirror_mode": {
    "name": "ipython",
    "version": 3
   },
   "file_extension": ".py",
   "mimetype": "text/x-python",
   "name": "python",
   "nbconvert_exporter": "python",
   "pygments_lexer": "ipython3",
   "version": "3.12.5"
  }
 },
 "nbformat": 4,
 "nbformat_minor": 5
}
