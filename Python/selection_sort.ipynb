{
 "cells": [
  {
   "cell_type": "code",
   "execution_count": 7,
   "id": "ee05a573-ada4-4b95-bcbe-b2fa0a75f3f6",
   "metadata": {},
   "outputs": [
    {
     "name": "stdout",
     "output_type": "stream",
     "text": [
      "1단계 [0, 5, 9, 7, 3, 1, 6, 2, 4, 8]\n",
      "2단계 [0, 1, 9, 7, 5, 3, 6, 2, 4, 8]\n",
      "3단계 [0, 1, 2, 9, 7, 3, 6, 5, 4, 8]\n",
      "4단계 [0, 1, 2, 3, 9, 7, 6, 5, 4, 8]\n",
      "5단계 [0, 1, 2, 3, 5, 9, 7, 6, 4, 8]\n",
      "6단계 [0, 1, 2, 3, 5, 6, 9, 7, 4, 8]\n",
      "7단계 [0, 1, 2, 3, 5, 6, 7, 9, 4, 8]\n",
      "8단계 [0, 1, 2, 3, 5, 6, 7, 8, 9, 4]\n",
      "9단계 [0, 1, 2, 3, 5, 6, 7, 8, 4, 9]\n",
      "10단계 [0, 1, 2, 3, 5, 6, 7, 8, 4, 9]\n"
     ]
    }
   ],
   "source": [
    "array = [7,5,9,0,3,1,6,2,4,8]\n",
    "\n",
    "for i in range(len(array)):\n",
    "    min_index = i\n",
    "    for j in range(i+1, len(array)):\n",
    "        if array[min_index]>array[j]:\n",
    "            min_index=j\n",
    "        array[i],array[min_index]=array[min_index],array[i]\n",
    "\n",
    "    print(f'{i+1}단계 {array}')\n"
   ]
  },
  {
   "cell_type": "code",
   "execution_count": 1,
   "id": "0f9dfccd-e06c-46ad-bc40-82bcbe0ae57a",
   "metadata": {},
   "outputs": [
    {
     "name": "stdout",
     "output_type": "stream",
     "text": [
      "<<정렬 전 자료>>\n",
      "[5, 2, 8, 1, 9, 7]\n",
      "<< 1 번째 과정자료>>\n",
      "[1, 2, 8, 5, 9, 7]\n",
      "<< 2 번째 과정자료>>\n",
      "[1, 2, 8, 5, 9, 7]\n",
      "<< 3 번째 과정자료>>\n",
      "[1, 2, 5, 8, 9, 7]\n",
      "<< 4 번째 과정자료>>\n",
      "[1, 2, 5, 7, 9, 8]\n",
      "<< 5 번째 과정자료>>\n",
      "[1, 2, 5, 7, 8, 9]\n",
      "정렬 후 자료\n",
      "[1, 2, 5, 7, 8, 9]\n"
     ]
    }
   ],
   "source": [
    "def selectionSort(a):\n",
    "    n=len(a)\n",
    "    for i in range(n-1):\n",
    "        min=a[i]\n",
    "        index=i\n",
    "\n",
    "        for j in range(i+1,n):\n",
    "            if min>a[j]:\n",
    "                min=a[j]\n",
    "                index=j\n",
    "\n",
    "        a[index]=a[i]\n",
    "        a[i]=min\n",
    "        print (\"<<\",i+1, \"번째 과정자료>>\")\n",
    "        print (a)\n",
    "    return a\n",
    "def Main():\n",
    "    data = [5,2,8,1,9,7]\n",
    "    print (\"<<정렬 전 자료>>\")\n",
    "    print (data)\n",
    "\n",
    "    selectionSort(data)\n",
    "    print (\"정렬 후 자료\")\n",
    "    print (data)\n",
    "\n",
    "Main()"
   ]
  },
  {
   "cell_type": "code",
   "execution_count": 2,
   "id": "d24dfaf1-10d1-48de-944d-059c3b50b2c2",
   "metadata": {},
   "outputs": [
    {
     "name": "stdout",
     "output_type": "stream",
     "text": [
      "<<정렬 전 자료>>\n",
      "[5, 2, 8, 1, 9, 7]\n",
      "<< 1 번째 과정자료>>\n",
      "[1, 2, 8, 5, 9, 7]\n",
      "<< 2 번째 과정자료>>\n",
      "[1, 2, 8, 5, 9, 7]\n",
      "<< 3 번째 과정자료>>\n",
      "[1, 2, 5, 8, 9, 7]\n",
      "<< 4 번째 과정자료>>\n",
      "[1, 2, 5, 7, 9, 8]\n",
      "<< 5 번째 과정자료>>\n",
      "[1, 2, 5, 7, 8, 9]\n",
      "정렬 후 자료\n",
      "[1, 2, 5, 7, 8, 9]\n"
     ]
    }
   ],
   "source": [
    "def select(a):\n",
    "    n=len(a)\n",
    "    for i in range(n-1):\n",
    "        min=a[i]\n",
    "        index=i\n",
    "        for j in range(i+1,n):\n",
    "            if(min>a[j]):\n",
    "                min=a[j]\n",
    "                index=j\n",
    "        a[index]=a[i]\n",
    "        a[i]=min\n",
    "        print (\"<<\",i+1, \"번째 과정자료>>\")\n",
    "        print (a)\n",
    "    return a\n",
    "def Main():\n",
    "    data = [5,2,8,1,9,7]\n",
    "    print (\"<<정렬 전 자료>>\")\n",
    "    print (data)\n",
    "\n",
    "    selectionSort(data)\n",
    "    print (\"정렬 후 자료\")\n",
    "    print (data)\n",
    "\n",
    "Main()"
   ]
  },
  {
   "cell_type": "code",
   "execution_count": 3,
   "id": "4f66e4da-2c08-4f77-a71e-34d97b2e352b",
   "metadata": {},
   "outputs": [
    {
     "name": "stdout",
     "output_type": "stream",
     "text": [
      "정렬 전 자료\n",
      "[5, 2, 8, 1, 9, 7]\n",
      "0번째 정렬 자료\n",
      "[2, 5, 1, 8, 7, 9]\n",
      "1번째 정렬 자료\n",
      "[2, 1, 5, 7, 8, 9]\n",
      "2번째 정렬 자료\n",
      "[1, 2, 5, 7, 8, 9]\n",
      "3번째 정렬 자료\n",
      "[1, 2, 5, 7, 8, 9]\n",
      "4번째 정렬 자료\n",
      "[1, 2, 5, 7, 8, 9]\n",
      "정렬 후 자료\n",
      "[1, 2, 5, 7, 8, 9]\n"
     ]
    }
   ],
   "source": [
    "def bubble(a):\n",
    "    n=len(a)\n",
    "    for i in range(n-1):\n",
    "        for j in range(1,n-i):\n",
    "            if(a[j-1]>a[j]):\n",
    "                temp=a[j-1]\n",
    "                a[j-1]=a[j]\n",
    "                a[j]=temp\n",
    "        print(f'{i}번째 정렬 자료')\n",
    "        print(a)\n",
    "    return a\n",
    "def Main():\n",
    "    data = [5,2,8,1,9,7]\n",
    "    print('정렬 전 자료')\n",
    "    print(data)\n",
    "    bubble(data)\n",
    "    print('정렬 후 자료')\n",
    "    print(data)\n",
    "Main()"
   ]
  },
  {
   "cell_type": "code",
   "execution_count": null,
   "id": "f9ebd29d-75f6-419c-8d92-93caa5b308cc",
   "metadata": {},
   "outputs": [],
   "source": []
  }
 ],
 "metadata": {
  "kernelspec": {
   "display_name": "Python 3 (ipykernel)",
   "language": "python",
   "name": "python3"
  },
  "language_info": {
   "codemirror_mode": {
    "name": "ipython",
    "version": 3
   },
   "file_extension": ".py",
   "mimetype": "text/x-python",
   "name": "python",
   "nbconvert_exporter": "python",
   "pygments_lexer": "ipython3",
   "version": "3.12.5"
  }
 },
 "nbformat": 4,
 "nbformat_minor": 5
}
