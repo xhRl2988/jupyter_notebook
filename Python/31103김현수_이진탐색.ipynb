{
 "cells": [
  {
   "cell_type": "code",
   "execution_count": 6,
   "id": "b9b05af1-a9ef-45cc-831c-be6e8f598fd8",
   "metadata": {},
   "outputs": [
    {
     "name": "stdin",
     "output_type": "stream",
     "text": [
      "찾으려는 수 입력:  82\n"
     ]
    },
    {
     "name": "stdout",
     "output_type": "stream",
     "text": [
      "<<1번째 검색 값:43\n",
      "계속 검색\n",
      "<<2번째 검색 값:64\n",
      "계속 검색\n",
      "<<3번째 검색 값:71\n",
      "계속 검색\n",
      "<<4번째 검색 값:82\n",
      "검색 회수: 4\n"
     ]
    }
   ],
   "source": [
    "def binarySearch(a,v):\n",
    "    left=0\n",
    "    right=len(a)-1\n",
    "    cnt=0\n",
    "    while(left<=right):\n",
    "        middle=(left+right)//2\n",
    "        cnt=cnt+1\n",
    "        print(f'<<{cnt}번째 검색 값:{a[middle]}')\n",
    "        if(v>a[middle]):\n",
    "            left=middle+1\n",
    "            print('계속 검색')\n",
    "        elif(v<a[middle]):\n",
    "            right=middle-1\n",
    "            print('계속 검색')\n",
    "        else:\n",
    "            print(f'검색 회수: {cnt}')\n",
    "            return 0\n",
    "    print('값이 존재하지 않음')\n",
    "    return 0\n",
    "def Main():\n",
    "    data=[19,26,38,43,57,64,71,82]\n",
    "    val=int(input('찾으려는 수 입력: '))\n",
    "    binarySearch(data,val)\n",
    "Main()"
   ]
  },
  {
   "cell_type": "code",
   "execution_count": 11,
   "id": "0ca433db-3c23-4fb0-9591-6a62f29110aa",
   "metadata": {},
   "outputs": [
    {
     "name": "stdin",
     "output_type": "stream",
     "text": [
      "데이터를 입력하세요:  10 20 30 40 50 60 70\n",
      "찾으려는 수 입력:  20\n"
     ]
    },
    {
     "name": "stdout",
     "output_type": "stream",
     "text": [
      "1번째 검색 값: 40\n",
      "계속 검색\n",
      "2번째 검색 값: 20\n",
      "검색 횟수: 2\n"
     ]
    }
   ],
   "source": [
    "def binary(a,v):\n",
    "    left=0\n",
    "    right=len(a)-1\n",
    "    cnt=0\n",
    "    while(left<=right):\n",
    "        middle=(left+right)//2\n",
    "        cnt=cnt+1\n",
    "        print(f'{cnt}번째 검색 값: {a[middle]}')\n",
    "        if(v>a[middle]):\n",
    "            left=middle+1\n",
    "            print('계속 검색')\n",
    "        elif(v<a[middle]):\n",
    "            right=middle-1\n",
    "            print('계속 검색')\n",
    "        else:\n",
    "            print(f'검색 횟수: {cnt}')\n",
    "            return 0\n",
    "    print('값이 존재하지 않음')\n",
    "    return 0\n",
    "def Main():\n",
    "    data = list(map(int, input('데이터를 입력하세요: ').split())) \n",
    "    val=int(input('찾으려는 수 입력: '))\n",
    "    binary(data,val)\n",
    "Main()"
   ]
  },
  {
   "cell_type": "code",
   "execution_count": 15,
   "id": "f6a07f68-f76c-455b-8440-0f2b9e8c39a2",
   "metadata": {},
   "outputs": [
    {
     "name": "stdin",
     "output_type": "stream",
     "text": [
      "데이터를 입력하세요:  10 20 30 40 50 60 70 80\n",
      "찾을려는 수 입력:  80\n"
     ]
    },
    {
     "name": "stdout",
     "output_type": "stream",
     "text": [
      "1번째 검색 값: 40\n",
      "계속검색\n",
      "2번째 검색 값: 60\n",
      "계속검색\n",
      "3번째 검색 값: 70\n",
      "계속검색\n",
      "4번째 검색 값: 80\n",
      "검색 횟수: 4\n"
     ]
    }
   ],
   "source": [
    "def binary(a,v):\n",
    "    left=0\n",
    "    right=len(a)-1\n",
    "    cnt=0\n",
    "    while(left<=right):\n",
    "        middle=(left+right)//2\n",
    "        cnt=cnt+1\n",
    "        print(f'{cnt}번째 검색 값: {a[middle]}')\n",
    "        if(v>a[middle]):\n",
    "            left=middle+1\n",
    "            print('계속검색')\n",
    "        elif(v<a[middle]):\n",
    "            right=middle-1\n",
    "            print('계속검색')\n",
    "        else:\n",
    "            print(f'검색 횟수: {cnt}')\n",
    "            return 0\n",
    "    print('값이 존재 하지 않음')\n",
    "    return 0\n",
    "def Main():\n",
    "    data=list(map(int,input('데이터를 입력하세요: ').split()))\n",
    "    val=int(input('찾을려는 수 입력: '))\n",
    "    binary(data,val)\n",
    "Main()"
   ]
  },
  {
   "cell_type": "code",
   "execution_count": null,
   "id": "d7966b92-f23a-4314-9e3d-2a430df24b82",
   "metadata": {},
   "outputs": [],
   "source": []
  }
 ],
 "metadata": {
  "kernelspec": {
   "display_name": "Python 3 (ipykernel)",
   "language": "python",
   "name": "python3"
  },
  "language_info": {
   "codemirror_mode": {
    "name": "ipython",
    "version": 3
   },
   "file_extension": ".py",
   "mimetype": "text/x-python",
   "name": "python",
   "nbconvert_exporter": "python",
   "pygments_lexer": "ipython3",
   "version": "3.12.5"
  }
 },
 "nbformat": 4,
 "nbformat_minor": 5
}
