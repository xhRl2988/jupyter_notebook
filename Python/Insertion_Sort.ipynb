{
 "cells": [
  {
   "cell_type": "code",
   "execution_count": 2,
   "id": "0dfe49e2-29fd-4291-81c4-2cfe0171ced2",
   "metadata": {},
   "outputs": [
    {
     "name": "stdout",
     "output_type": "stream",
     "text": [
      "정렬 전 자료\n",
      "[5, 2, 8, 1, 9, 7]\n",
      "0번째 과정자료\n",
      "[5, 2, 8, 1, 9, 7]\n",
      "1번째 과정자료\n",
      "[2, 5, 8, 1, 9, 7]\n",
      "2번째 과정자료\n",
      "[2, 5, 8, 1, 9, 7]\n",
      "3번째 과정자료\n",
      "[1, 2, 5, 8, 9, 7]\n",
      "4번째 과정자료\n",
      "[1, 2, 5, 8, 9, 7]\n",
      "5번째 과정자료\n",
      "[1, 2, 5, 7, 8, 9]\n",
      "정렬 후 자료\n",
      "[1, 2, 5, 7, 8, 9]\n"
     ]
    }
   ],
   "source": [
    "def insertionSort(a):\n",
    "    n=len(a)\n",
    "    for i in range(0,n):\n",
    "        temp=a[i]\n",
    "        j=i\n",
    "        while(a[j-1]>temp and j>0):\n",
    "            a[j]=a[j-1]\n",
    "            j=j-1\n",
    "        a[j]=temp\n",
    "        print(f'{i}번째 과정자료');\n",
    "        print(a)\n",
    "    return a\n",
    "def Main():\n",
    "    data = [5,2,8,1,9,7]\n",
    "    print(\"정렬 전 자료\");\n",
    "    print(data)\n",
    "    insertionSort(data)\n",
    "    print(\"정렬 후 자료\");\n",
    "    print(data)\n",
    "Main()"
   ]
  },
  {
   "cell_type": "code",
   "execution_count": 18,
   "id": "708805c0-1b1f-42b7-affb-e143a5fc732f",
   "metadata": {},
   "outputs": [
    {
     "name": "stdout",
     "output_type": "stream",
     "text": [
      "정렬 전 자료\n",
      "[5, 2, 8, 1, 9, 7]\n",
      "0번째 정렬 자료\n",
      "[5, 2, 8, 1, 9, 7]\n",
      "1번째 정렬 자료\n",
      "[2, 5, 8, 1, 9, 7]\n",
      "2번째 정렬 자료\n",
      "[2, 5, 8, 1, 9, 7]\n",
      "3번째 정렬 자료\n",
      "[1, 2, 5, 8, 9, 7]\n",
      "4번째 정렬 자료\n",
      "[1, 2, 5, 8, 9, 7]\n",
      "5번째 정렬 자료\n",
      "[1, 2, 5, 7, 8, 9]\n",
      "정렬 후 자료\n",
      "[1, 2, 5, 7, 8, 9]\n"
     ]
    }
   ],
   "source": [
    "def insertion(a):\n",
    "    n=len(a)\n",
    "    for i in range(0,n):\n",
    "        temp=a[i]\n",
    "        j=i\n",
    "        while(a[j-1]>temp and j>0):\n",
    "            a[j]=a[j-1]\n",
    "            j=j-1\n",
    "        a[j]=temp\n",
    "        print(f'{i}번째 정렬 자료')\n",
    "        print(a)\n",
    "    return a\n",
    "def Main():\n",
    "    data = [5,2,8,1,9,7]\n",
    "    print('정렬 전 자료')\n",
    "    print(data)\n",
    "    insertion(data)\n",
    "    print('정렬 후 자료')\n",
    "    print(data)\n",
    "Main()"
   ]
  },
  {
   "cell_type": "code",
   "execution_count": null,
   "id": "bd9fb931-4449-43a2-a346-080e152344c5",
   "metadata": {},
   "outputs": [],
   "source": []
  }
 ],
 "metadata": {
  "kernelspec": {
   "display_name": "Python 3 (ipykernel)",
   "language": "python",
   "name": "python3"
  },
  "language_info": {
   "codemirror_mode": {
    "name": "ipython",
    "version": 3
   },
   "file_extension": ".py",
   "mimetype": "text/x-python",
   "name": "python",
   "nbconvert_exporter": "python",
   "pygments_lexer": "ipython3",
   "version": "3.12.5"
  }
 },
 "nbformat": 4,
 "nbformat_minor": 5
}
