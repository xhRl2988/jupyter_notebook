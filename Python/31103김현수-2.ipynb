{
 "cells": [
  {
   "cell_type": "code",
   "execution_count": null,
   "id": "7c3b5747-2b88-4e53-bc5e-ce85d3f11cd7",
   "metadata": {},
   "outputs": [],
   "source": [
    "선형탐색"
   ]
  },
  {
   "cell_type": "code",
   "execution_count": 7,
   "id": "d674b872-ba78-4090-9150-1aa206f044a5",
   "metadata": {},
   "outputs": [
    {
     "name": "stdin",
     "output_type": "stream",
     "text": [
      "데이터를 입력하세요:  10 20 30 40 50 60 70 80\n",
      "찾을려는 수 입력 50\n"
     ]
    },
    {
     "name": "stdout",
     "output_type": "stream",
     "text": [
      "1번째 검색 값: 10\n",
      "계속 검색\n",
      "2번째 검색 값: 20\n",
      "계속 검색\n",
      "3번째 검색 값: 30\n",
      "계속 검색\n",
      "4번째 검색 값: 40\n",
      "계속 검색\n",
      "5번째 검색 값: 50\n",
      "검색 횟수: 5\n"
     ]
    }
   ],
   "source": [
    "def tjsgud(a,v):\n",
    "    cnt=0\n",
    "    n=len(a)\n",
    "    for i in range(n):\n",
    "        print(f'{cnt+1}번째 검색 값: {a[i]}')\n",
    "        cnt=cnt+1\n",
    "        if v == a[i]:\n",
    "            print(f'검색 횟수: {cnt}')\n",
    "            return 0\n",
    "        else:\n",
    "            print('계속 검색')\n",
    "    print('검색 값이 없음')\n",
    "    return 0\n",
    "def Main():\n",
    "    data=list(map(int,input('데이터를 입력하세요: ').split()))\n",
    "    val=int(input('찾을려는 수 입력'))\n",
    "    tjsgud(data,val)\n",
    "Main()"
   ]
  },
  {
   "cell_type": "code",
   "execution_count": null,
   "id": "c51aea8d-f06f-4303-b01b-0da1d59a7e7f",
   "metadata": {},
   "outputs": [],
   "source": [
    "이진탐색"
   ]
  },
  {
   "cell_type": "code",
   "execution_count": 13,
   "id": "99d17e4a-be90-43ae-a6ad-0ff156b04c22",
   "metadata": {},
   "outputs": [
    {
     "name": "stdin",
     "output_type": "stream",
     "text": [
      "데이터를 입력하세요:  10 20 30 40 50 60 70 80\n",
      "찾을려는 수 입력 50\n"
     ]
    },
    {
     "name": "stdout",
     "output_type": "stream",
     "text": [
      "1번째 검색 값: 40\n",
      "계속 검색\n",
      "2번째 검색 값: 60\n",
      "계속 검색\n",
      "3번째 검색 값: 50\n",
      "검색 횟수: 3\n"
     ]
    }
   ],
   "source": [
    "def dlwls(a,v):\n",
    "    cnt=0\n",
    "    left=0\n",
    "    right=len(a)-1\n",
    "    while(left<=right):\n",
    "        middle=(left+right)//2\n",
    "        print(f'{cnt+1}번째 검색 값: {a[middle]}')\n",
    "        cnt=cnt+1\n",
    "        if(v>a[middle]):\n",
    "            left = middle+1\n",
    "            print('계속 검색')\n",
    "        elif(v<a[middle]):\n",
    "            right=middle-1\n",
    "            print('계속 검색')\n",
    "        else:\n",
    "            print(f'검색 횟수: {cnt}')\n",
    "            return 0\n",
    "    print('검색 값이 없음')\n",
    "    return 0\n",
    "def Main():\n",
    "    data=list(map(int,input('데이터를 입력하세요: ').split()))\n",
    "    val=int(input('찾을려는 수 입력'))\n",
    "    dlwls(data,val)\n",
    "Main()"
   ]
  },
  {
   "cell_type": "code",
   "execution_count": null,
   "id": "30e2f9fa-de6e-45e6-91e2-912deff68af9",
   "metadata": {},
   "outputs": [],
   "source": []
  }
 ],
 "metadata": {
  "kernelspec": {
   "display_name": "Python 3 (ipykernel)",
   "language": "python",
   "name": "python3"
  },
  "language_info": {
   "codemirror_mode": {
    "name": "ipython",
    "version": 3
   },
   "file_extension": ".py",
   "mimetype": "text/x-python",
   "name": "python",
   "nbconvert_exporter": "python",
   "pygments_lexer": "ipython3",
   "version": "3.12.5"
  }
 },
 "nbformat": 4,
 "nbformat_minor": 5
}
