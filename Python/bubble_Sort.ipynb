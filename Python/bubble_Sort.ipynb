{
 "cells": [
  {
   "cell_type": "code",
   "execution_count": 5,
   "id": "50747ba0-dc7b-46d4-8ec7-05701af65623",
   "metadata": {},
   "outputs": [
    {
     "name": "stdout",
     "output_type": "stream",
     "text": [
      "정렬 전 자료\n",
      "[5, 2, 8, 1, 9, 7]\n",
      "1번째 과정 자료\n",
      "[2, 5, 1, 8, 7, 9]\n",
      "2번째 과정 자료\n",
      "[2, 1, 5, 7, 8, 9]\n",
      "3번째 과정 자료\n",
      "[1, 2, 5, 7, 8, 9]\n",
      "4번째 과정 자료\n",
      "[1, 2, 5, 7, 8, 9]\n",
      "5번째 과정 자료\n",
      "[1, 2, 5, 7, 8, 9]\n",
      "정렬 후 자료\n",
      "[1, 2, 5, 7, 8, 9]\n"
     ]
    }
   ],
   "source": [
    "def bubbleSort(a):\n",
    "    n=len(a)\n",
    "    for i in range(n-1):\n",
    "        for j in range(1,n-i):\n",
    "            if a[j-1]>a[j]:\n",
    "                temp = a[j-1]\n",
    "                a[j-1]=a[j]\n",
    "                a[j]=temp\n",
    "\n",
    "        print(f'{i+1}번째 과정 자료')\n",
    "        print(a)\n",
    "    return a\n",
    "def Main():\n",
    "    data=[5,2,8,1,9,7]\n",
    "    print('정렬 전 자료')\n",
    "    print(data)\n",
    "    bubbleSort(data)\n",
    "    print('정렬 후 자료')\n",
    "    print(data)\n",
    "Main()"
   ]
  },
  {
   "cell_type": "code",
   "execution_count": 8,
   "id": "2537acda-c697-4a5f-93b1-cc8a9ceb3862",
   "metadata": {},
   "outputs": [
    {
     "name": "stdout",
     "output_type": "stream",
     "text": [
      "정렬 전 자료\n",
      "[5, 1, 2, 8, 4, 2]\n",
      "1번째 과정 자료\n",
      "[1, 2, 5, 4, 2, 8]\n",
      "2번째 과정 자료\n",
      "[1, 2, 4, 2, 5, 8]\n",
      "3번째 과정 자료\n",
      "[1, 2, 2, 4, 5, 8]\n",
      "4번째 과정 자료\n",
      "[1, 2, 2, 4, 5, 8]\n",
      "5번째 과정 자료\n",
      "[1, 2, 2, 4, 5, 8]\n",
      "정렬 후 자료\n",
      "[1, 2, 2, 4, 5, 8]\n"
     ]
    }
   ],
   "source": [
    "def bubble(a):\n",
    "    n=len(a)\n",
    "    for i in range(n-1):\n",
    "        for j in range(1,n-i):\n",
    "            if a[j-1]>a[j]:\n",
    "                temp=a[j-1]\n",
    "                a[j-1]=a[j]\n",
    "                a[j]=temp\n",
    "        print(f'{i+1}번째 과정 자료')\n",
    "        print(a)\n",
    "    return a\n",
    "def Main():\n",
    "    data=[5,1,2,8,4,2]\n",
    "    print('정렬 전 자료')\n",
    "    print(data)\n",
    "    bubble(data)\n",
    "    print('정렬 후 자료')\n",
    "    print(data)\n",
    "Main()\n"
   ]
  },
  {
   "cell_type": "code",
   "execution_count": null,
   "id": "cf0465e5-baac-4080-9800-054968ba1e36",
   "metadata": {},
   "outputs": [],
   "source": []
  }
 ],
 "metadata": {
  "kernelspec": {
   "display_name": "Python 3 (ipykernel)",
   "language": "python",
   "name": "python3"
  },
  "language_info": {
   "codemirror_mode": {
    "name": "ipython",
    "version": 3
   },
   "file_extension": ".py",
   "mimetype": "text/x-python",
   "name": "python",
   "nbconvert_exporter": "python",
   "pygments_lexer": "ipython3",
   "version": "3.12.5"
  }
 },
 "nbformat": 4,
 "nbformat_minor": 5
}
